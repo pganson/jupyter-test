{
 "cells": [
  {
   "cell_type": "code",
   "execution_count": null,
   "metadata": {},
   "outputs": [],
   "source": [
    "set1 = {1, 2, 3}\n",
    "set2 = {3, 5, 7}\n",
    "set3 = set2.intersection(set1)\n",
    "print(set3)\n"
   ]
  },
  {
   "cell_type": "code",
   "execution_count": null,
   "metadata": {
    "scrolled": true
   },
   "outputs": [],
   "source": [
    "all_values = {1, 2, 3, 4, 5, 6, 7, 8, 9}\n",
    "\n",
    "sq_values = {1, 2, 3, 4}\n",
    "row_values = {3, 5, 7, 8, 9}\n",
    "col_values = {4, 2, 1, 8}\n",
    "\n",
    "my_guesses = all_values.difference(sq_values, row_values, col_values)\n",
    "\n",
    "print(all_values)\n",
    "print(my_guesses)\n",
    "print(len(my_guesses))"
   ]
  },
  {
   "cell_type": "code",
   "execution_count": null,
   "metadata": {},
   "outputs": [],
   "source": [
    "s = {1, 2, 3, 4, 5, 6, 7, 8, 9}\n",
    "l = list(s)\n",
    "print(\"s=\", s, \" list=\", l, sep=\"\")\n",
    "e = s.difference(set([v for v in range(1,10,2)]))\n",
    "o = s.difference(set([v for v in range(2,10,2)]))\n",
    "print(\"even=\", e, \" odd=\", o, sep=\"\")\n"
   ]
  },
  {
   "cell_type": "code",
   "execution_count": null,
   "metadata": {},
   "outputs": [],
   "source": []
  }
 ],
 "metadata": {
  "kernelspec": {
   "display_name": "Python 3",
   "language": "python",
   "name": "python3"
  },
  "language_info": {
   "codemirror_mode": {
    "name": "ipython",
    "version": 3
   },
   "file_extension": ".py",
   "mimetype": "text/x-python",
   "name": "python",
   "nbconvert_exporter": "python",
   "pygments_lexer": "ipython3",
   "version": "3.6.7"
  }
 },
 "nbformat": 4,
 "nbformat_minor": 2
}
