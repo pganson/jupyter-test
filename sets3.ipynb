{
 "cells": [
  {
   "cell_type": "code",
   "execution_count": null,
   "metadata": {},
   "outputs": [],
   "source": [
    "set1 = {1, 2, 3}\n",
    "set2 = {3, 5, 7}\n",
    "set3 = set2.intersection(set1)\n",
    "print(set3)\n"
   ]
  },
  {
   "cell_type": "code",
   "execution_count": null,
   "metadata": {
    "scrolled": true
   },
   "outputs": [],
   "source": [
    "all_values = {1, 2, 3, 4, 5, 6, 7, 8, 9}\n",
    "\n",
    "sq_values = {1, 2, 3, 4}\n",
    "row_values = {3, 5, 7, 8, 9}\n",
    "col_values = {4, 2, 1, 8}\n",
    "\n",
    "my_guesses = all_values.difference(sq_values, row_values, col_values)\n",
    "\n",
    "print(all_values)\n",
    "print(my_guesses)\n",
    "print(len(my_guesses))"
   ]
  },
  {
   "cell_type": "code",
   "execution_count": null,
   "metadata": {},
   "outputs": [],
   "source": [
    "class Cell(object):\n",
    "    def __init__(self, r, c)\n",
    "        self._r = r\n",
    "        self._c = c\n",
    "\n",
    "// class Threes(object):\n",
    "//     pass\n",
    "    \n",
    "class Nines(object):\n",
    "    all_values = {1, 2, 3, 4, 5, 6, 7, 8, 9}\n",
    "\n",
    "    def __init__(self, t, id):\n",
    "        self._type = t\n",
    "        self._id = id\n",
    "\n",
    "class Board(object):\n",
    "    NUM_ROWS = 9\n",
    "    NUM_COLS = NUM_ROWS\n",
    "    ROW_NUMS = [range(NUM_ROWS)]\n",
    "    COL_NUMS = [range(NUM_COLS)]\n",
    "    \n",
    "    def __init__(self):\n",
    "        self._all_cells = {(r,c):Cell(r,c) for r in self.__class__.ROW_NUMS for c in self.__class__.COL_NUMS}\n",
    "        self._all_rows = {r:Nines(\"row\", r) for r in self.__class__.ROW_NUMS}\n",
    "        self._all_cols = {c:Nines(\"col\", c) for c in self.__class__.COL_NUMS}\n",
    "        pass\n",
    "        \n",
    "    def debug_init():\n",
    "        print(\"All rows: %s\" % self._all_rows)\n",
    "        print(\"All columns: %s\" % self._all_cols)\n",
    "    \n",
    "def main():\n",
    "    b = Board()\n",
    "    b.debug_init()\n",
    "    \n",
    "    return\n",
    "    \n",
    "    sq = Nines([1, 2, 3, 4])\n",
    "    row = Nines([3, 5, 7, 8, 9])\n",
    "    col = Nines([4, 2, 1, 8])\n",
    "\n",
    "    my_guesses = Nines.all_values.difference(sq._vals, row._vals, col._vals)\n",
    "\n",
    "    print(\"all values: %s\" % Nines.all_values)\n",
    "    print(\"my guesses: %s\" % my_guesses)\n",
    "    print(len(my_guesses))\n",
    "    \n",
    "if __name__ == \"__main__\":\n",
    "    main()"
   ]
  }
 ],
 "metadata": {
  "kernelspec": {
   "display_name": "Python 3",
   "language": "python",
   "name": "python3"
  },
  "language_info": {
   "codemirror_mode": {
    "name": "ipython",
    "version": 3
   },
   "file_extension": ".py",
   "mimetype": "text/x-python",
   "name": "python",
   "nbconvert_exporter": "python",
   "pygments_lexer": "ipython3",
   "version": "3.6.7"
  }
 },
 "nbformat": 4,
 "nbformat_minor": 2
}
