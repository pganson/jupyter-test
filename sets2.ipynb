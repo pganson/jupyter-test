{
 "cells": [
  {
   "cell_type": "code",
   "execution_count": 1,
   "metadata": {},
   "outputs": [
    {
     "name": "stdout",
     "output_type": "stream",
     "text": [
      "{3}\n"
     ]
    }
   ],
   "source": [
    "set1 = {1, 2, 3}\n",
    "set2 = {3, 5, 7}\n",
    "set3 = set2.intersection(set1)\n",
    "print(set3)\n"
   ]
  },
  {
   "cell_type": "code",
   "execution_count": 6,
   "metadata": {},
   "outputs": [
    {
     "name": "stdout",
     "output_type": "stream",
     "text": [
      "{1, 2, 3, 4, 5, 6, 7, 8, 9}\n",
      "{6}\n",
      "1\n"
     ]
    }
   ],
   "source": [
    "all_values = {1, 2, 3, 4, 5, 6, 7, 8, 9}\n",
    "\n",
    "sq_values = {1, 2, 3, 4}\n",
    "row_values = {3, 5, 7, 8, 9}\n",
    "col_values = {4, 2, 1, 8}\n",
    "\n",
    "my_guesses = all_values.difference(sq_values, row_values, col_values)\n",
    "\n",
    "print(all_values)\n",
    "print(my_guesses)\n",
    "print(len(my_guesses))"
   ]
  },
  {
   "cell_type": "code",
   "execution_count": 2,
   "metadata": {},
   "outputs": [
    {
     "name": "stdout",
     "output_type": "stream",
     "text": [
      "all values: {1, 2, 3, 4, 5, 6, 7, 8, 9}\n",
      "my guesses: {6}\n",
      "1\n"
     ]
    }
   ],
   "source": [
    "class Nines(object):\n",
    "    all_values = {1, 2, 3, 4, 5, 6, 7, 8, 9}\n",
    "\n",
    "    def __init__(self, vals):\n",
    "        self._vals = vals.copy()\n",
    "\n",
    "sq = Nines([1, 2, 3, 4])\n",
    "row = Nines([3, 5, 7, 8, 9])\n",
    "col = Nines([4, 2, 1, 8])\n",
    "\n",
    "my_guesses = Nines.all_values.difference(sq._vals, row._vals, col._vals)\n",
    "\n",
    "print(\"all values: %s\" % Nines.all_values)\n",
    "print(\"my guesses: %s\" % my_guesses)\n",
    "print(len(my_guesses))"
   ]
  },
  {
   "cell_type": "code",
   "execution_count": null,
   "metadata": {},
   "outputs": [],
   "source": []
  }
 ],
 "metadata": {
  "kernelspec": {
   "display_name": "Python 3",
   "language": "python",
   "name": "python3"
  },
  "language_info": {
   "codemirror_mode": {
    "name": "ipython",
    "version": 3
   },
   "file_extension": ".py",
   "mimetype": "text/x-python",
   "name": "python",
   "nbconvert_exporter": "python",
   "pygments_lexer": "ipython3",
   "version": "3.6.7"
  }
 },
 "nbformat": 4,
 "nbformat_minor": 2
}
