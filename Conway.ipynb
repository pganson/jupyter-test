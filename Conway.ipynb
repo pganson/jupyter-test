{
 "cells": [
  {
   "cell_type": "code",
   "execution_count": null,
   "metadata": {},
   "outputs": [],
   "source": [
    "import numpy as np\n",
    "from scipy.signal import convolve\n",
    "\n",
    "# used for counting the number of living neighbors each cell has\n",
    "FILTER = np.array([[1, 1, 1],\n",
    "                   [1, 100, 1],\n",
    "                   [1, 1, 1]], dtype=np.uint8)"
   ]
  },
  {
   "cell_type": "code",
   "execution_count": null,
   "metadata": {},
   "outputs": [],
   "source": [
    "def evolve(length, generations):\n",
    "    \"\"\"\n",
    "    Run the Game of Life. Starting state is random.\n",
    "\n",
    "    Parameters\n",
    "    ----------\n",
    "    length : int\n",
    "        Universe will be `length` units per side.\n",
    "    generations : int\n",
    "        Number of generations to run simulation.\n",
    "\n",
    "    \"\"\"\n",
    "    current = np.random.randint(2, size=(length, length))\n",
    "    next = np.empty_like(current)\n",
    "    current[length/2, 1:(length-1)] = 1\n",
    "    show_board(current)\n",
    "    for _ in xrange(generations):\n",
    "        advance(current, next)\n",
    "        current, next = next, current\n",
    "        show_board(current)"
   ]
  },
  {
   "cell_type": "code",
   "execution_count": null,
   "metadata": {},
   "outputs": [],
   "source": [
    "def advance(current, next):\n",
    "    \"\"\"\n",
    "    Calculate the next iteration of the Game of Life.\n",
    "\n",
    "    Parameters\n",
    "    ----------\n",
    "    current : 2D array\n",
    "        Current state of universe.\n",
    "    next : 2D array\n",
    "        This array will be modified in place so that it contains the\n",
    "        next step. Must be the same size as `current`.\n",
    "\n",
    "    \"\"\"\n",
    "    assert current.shape[0] == current.shape[1], \\\n",
    "           'Expected square universe'\n",
    "    next[:] = 0\n",
    "    count = convolve(current, FILTER, mode='same')\n",
    "    next[(count == 3) | (count == 102) | (count == 103)] = 1"
   ]
  },
  {
   "cell_type": "code",
   "execution_count": null,
   "metadata": {},
   "outputs": [],
   "source": [
    "from IPython.display import clear_output, display_html\n",
    "import time\n",
    "def show_board(board):\n",
    "    \"\"\"\n",
    "    Print the current Game of Life universe in an HTML table.\n",
    "    Removes any existing output using `IPython.display.clear_output`\n",
    "    to make an animation. This doesn't scale well beyond ~50x50 boards.\n",
    "\n",
    "    Parameters\n",
    "    ----------\n",
    "    board : 2D array\n",
    "        Array representing the current universe.\n",
    "\n",
    "    \"\"\"\n",
    "    clear_output()\n",
    "    nx, ny = board.shape\n",
    "    table = '<table style=\"border-color: black; border-width: 5px;\">\\n'\n",
    "    for y in xrange(ny-1, -1, -1):\n",
    "        table += '<tr>'\n",
    "        for x in xrange(0, nx):\n",
    "            if board[x, y]:\n",
    "                table += '<td style=\"background: black; border-color: white;\"></td>'\n",
    "            else:\n",
    "                table += '<td style=\"border-color: white;\"></td>'\n",
    "        table += '</tr>\\n'\n",
    "    table += '</table>'\n",
    "    display_html(table, raw=True)\n",
    "    time.sleep(0.1)"
   ]
  },
  {
   "cell_type": "code",
   "execution_count": null,
   "metadata": {},
   "outputs": [],
   "source": [
    "evolve(40, 100)"
   ]
  }
 ],
 "metadata": {
  "kernelspec": {
   "display_name": "Python 3",
   "language": "python",
   "name": "python3"
  },
  "language_info": {
   "codemirror_mode": {
    "name": "ipython",
    "version": 3
   },
   "file_extension": ".py",
   "mimetype": "text/x-python",
   "name": "python",
   "nbconvert_exporter": "python",
   "pygments_lexer": "ipython3",
   "version": "3.6.7"
  }
 },
 "nbformat": 4,
 "nbformat_minor": 2
}
